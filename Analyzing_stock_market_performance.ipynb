{
  "nbformat": 4,
  "nbformat_minor": 0,
  "metadata": {
    "colab": {
      "provenance": [],
      "toc_visible": true
    },
    "kernelspec": {
      "name": "python3",
      "display_name": "Python 3"
    },
    "language_info": {
      "name": "python"
    }
  },
  "cells": [
    {
      "cell_type": "markdown",
      "source": [
        "#**Analyzing Stock Market Performance** \n",
        "\n",
        "---\n",
        "\n",
        "\n",
        "\n",
        "*Objective*: This project is to analyze the stock market performance of a company over a period of time and identify key trends and insights that can help investors make informed decisions."
      ],
      "metadata": {
        "id": "we-Mq7GcnQ1n"
      }
    },
    {
      "cell_type": "markdown",
      "source": [
        "##Data Collection "
      ],
      "metadata": {
        "id": "WzlBxV-Lom9E"
      }
    },
    {
      "cell_type": "markdown",
      "source": [
        "###Install Required Libraries:\n",
        "\n",
        "---\n",
        "\n",
        "\n",
        "The first step is to install the required libraries for data analysis and visualization. In Colab Notebook, you can use the following command to install the libraries:"
      ],
      "metadata": {
        "id": "12xLG4RVoJr9"
      }
    },
    {
      "cell_type": "code",
      "source": [
        "!pip install yfinance"
      ],
      "metadata": {
        "colab": {
          "base_uri": "https://localhost:8080/"
        },
        "id": "4mDNImmfoPU2",
        "outputId": "77d98769-d330-44eb-f715-fbf9fd31ca15"
      },
      "execution_count": 39,
      "outputs": [
        {
          "output_type": "stream",
          "name": "stdout",
          "text": [
            "Looking in indexes: https://pypi.org/simple, https://us-python.pkg.dev/colab-wheels/public/simple/\n",
            "Requirement already satisfied: yfinance in /usr/local/lib/python3.10/dist-packages (0.2.18)\n",
            "Requirement already satisfied: pandas>=1.3.0 in /usr/local/lib/python3.10/dist-packages (from yfinance) (1.5.3)\n",
            "Requirement already satisfied: numpy>=1.16.5 in /usr/local/lib/python3.10/dist-packages (from yfinance) (1.22.4)\n",
            "Requirement already satisfied: requests>=2.26 in /usr/local/lib/python3.10/dist-packages (from yfinance) (2.27.1)\n",
            "Requirement already satisfied: multitasking>=0.0.7 in /usr/local/lib/python3.10/dist-packages (from yfinance) (0.0.11)\n",
            "Requirement already satisfied: lxml>=4.9.1 in /usr/local/lib/python3.10/dist-packages (from yfinance) (4.9.2)\n",
            "Requirement already satisfied: appdirs>=1.4.4 in /usr/local/lib/python3.10/dist-packages (from yfinance) (1.4.4)\n",
            "Requirement already satisfied: pytz>=2022.5 in /usr/local/lib/python3.10/dist-packages (from yfinance) (2022.7.1)\n",
            "Requirement already satisfied: frozendict>=2.3.4 in /usr/local/lib/python3.10/dist-packages (from yfinance) (2.3.7)\n",
            "Requirement already satisfied: cryptography>=3.3.2 in /usr/local/lib/python3.10/dist-packages (from yfinance) (40.0.2)\n",
            "Requirement already satisfied: beautifulsoup4>=4.11.1 in /usr/local/lib/python3.10/dist-packages (from yfinance) (4.11.2)\n",
            "Requirement already satisfied: html5lib>=1.1 in /usr/local/lib/python3.10/dist-packages (from yfinance) (1.1)\n",
            "Requirement already satisfied: soupsieve>1.2 in /usr/local/lib/python3.10/dist-packages (from beautifulsoup4>=4.11.1->yfinance) (2.4.1)\n",
            "Requirement already satisfied: cffi>=1.12 in /usr/local/lib/python3.10/dist-packages (from cryptography>=3.3.2->yfinance) (1.15.1)\n",
            "Requirement already satisfied: six>=1.9 in /usr/local/lib/python3.10/dist-packages (from html5lib>=1.1->yfinance) (1.16.0)\n",
            "Requirement already satisfied: webencodings in /usr/local/lib/python3.10/dist-packages (from html5lib>=1.1->yfinance) (0.5.1)\n",
            "Requirement already satisfied: python-dateutil>=2.8.1 in /usr/local/lib/python3.10/dist-packages (from pandas>=1.3.0->yfinance) (2.8.2)\n",
            "Requirement already satisfied: urllib3<1.27,>=1.21.1 in /usr/local/lib/python3.10/dist-packages (from requests>=2.26->yfinance) (1.26.15)\n",
            "Requirement already satisfied: certifi>=2017.4.17 in /usr/local/lib/python3.10/dist-packages (from requests>=2.26->yfinance) (2022.12.7)\n",
            "Requirement already satisfied: charset-normalizer~=2.0.0 in /usr/local/lib/python3.10/dist-packages (from requests>=2.26->yfinance) (2.0.12)\n",
            "Requirement already satisfied: idna<4,>=2.5 in /usr/local/lib/python3.10/dist-packages (from requests>=2.26->yfinance) (3.4)\n",
            "Requirement already satisfied: pycparser in /usr/local/lib/python3.10/dist-packages (from cffi>=1.12->cryptography>=3.3.2->yfinance) (2.21)\n"
          ]
        }
      ]
    },
    {
      "cell_type": "markdown",
      "source": [
        "After installing the libraries, you need to import them into your Jupyter Notebook. You can use the following command to import the libraries:"
      ],
      "metadata": {
        "id": "vNbUgJlUow45"
      }
    },
    {
      "cell_type": "markdown",
      "source": [
        "###Import the necessary libraries:\n",
        "---\n",
        " Including pandas, yfinance, matplotlib, and seaborn.\n"
      ],
      "metadata": {
        "id": "8apDgdbOn5t3"
      }
    },
    {
      "cell_type": "code",
      "execution_count": 40,
      "metadata": {
        "id": "iIMiWq9TnMAz"
      },
      "outputs": [],
      "source": [
        "import pandas as pd\n",
        "import yfinance as yf\n",
        "import matplotlib.pyplot as plt\n",
        "import seaborn as sns"
      ]
    },
    {
      "cell_type": "markdown",
      "source": [
        "###Collect Historical Stock Price Data:\n",
        "\n",
        "---\n",
        "\n",
        "\n",
        "Use the yf.download() function from the yfinance library to collect historical stock price data. For example, to collect historical stock price data for Apple Inc. (AAPL) for the period from January 1, 2010 to December 31, 2020, you can use the following command:"
      ],
      "metadata": {
        "id": "Q8Pe3nIypCY9"
      }
    },
    {
      "cell_type": "code",
      "source": [
        "# Import datetime library \n",
        "from datetime import date, timedelta\n",
        "\n",
        "# Calculate yesterday number\n",
        "today = date.today()\n",
        "yesterday = today - timedelta(days=1) # In the morning \"days = 1\", the end of the day \"days = 0.5\" \n",
        "\n",
        "# Collect historical stock price data\n",
        "df = yf.download('AAPL', start='2010-01-01', end= yesterday) \n",
        "#The data is collected from Yahoo Finance and covers the period from January 1, 2010, to May 4, 2021."
      ],
      "metadata": {
        "colab": {
          "base_uri": "https://localhost:8080/"
        },
        "id": "MpYAAlRmpMKp",
        "outputId": "ba9fde7a-4c54-4218-f6b9-c60160749996"
      },
      "execution_count": 41,
      "outputs": [
        {
          "output_type": "stream",
          "name": "stdout",
          "text": [
            "\r[*********************100%***********************]  1 of 1 completed\n"
          ]
        }
      ]
    },
    {
      "cell_type": "code",
      "source": [
        "#url = 'https://query1.finance.yahoo.com/v7/finance/download/AAPL?period1=1262304000&period2=1620124800&interval=1d&events=history&includeAdjustedClose=true'\n",
        "#data = pd.read_csv(url)\n",
        "#The data is collected from Yahoo Finance and covers the period from January 1, 2010, to May 4, 2021."
      ],
      "metadata": {
        "id": "qov2Ks_Apz4k"
      },
      "execution_count": 42,
      "outputs": []
    },
    {
      "cell_type": "code",
      "source": [
        "# Overview\n",
        "print(df.head())\n",
        "print(\"------------------------------------------------------------------------\")\n",
        "# Data info\n",
        "print(df.info())"
      ],
      "metadata": {
        "colab": {
          "base_uri": "https://localhost:8080/"
        },
        "id": "peWRHBtjrK43",
        "outputId": "10ebea6c-94ef-46e7-d002-f9f5dcca0e84"
      },
      "execution_count": 43,
      "outputs": [
        {
          "output_type": "stream",
          "name": "stdout",
          "text": [
            "                Open      High       Low     Close  Adj Close     Volume\n",
            "Date                                                                    \n",
            "2010-01-04  7.622500  7.660714  7.585000  7.643214   6.505281  493729600\n",
            "2010-01-05  7.664286  7.699643  7.616071  7.656429   6.516526  601904800\n",
            "2010-01-06  7.656429  7.686786  7.526786  7.534643   6.412872  552160000\n",
            "2010-01-07  7.562500  7.571429  7.466071  7.520714   6.401019  477131200\n",
            "2010-01-08  7.510714  7.571429  7.466429  7.570714   6.443573  447610800\n",
            "------------------------------------------------------------------------\n",
            "<class 'pandas.core.frame.DataFrame'>\n",
            "DatetimeIndex: 3359 entries, 2010-01-04 to 2023-05-08\n",
            "Data columns (total 6 columns):\n",
            " #   Column     Non-Null Count  Dtype  \n",
            "---  ------     --------------  -----  \n",
            " 0   Open       3359 non-null   float64\n",
            " 1   High       3359 non-null   float64\n",
            " 2   Low        3359 non-null   float64\n",
            " 3   Close      3359 non-null   float64\n",
            " 4   Adj Close  3359 non-null   float64\n",
            " 5   Volume     3359 non-null   int64  \n",
            "dtypes: float64(5), int64(1)\n",
            "memory usage: 183.7 KB\n",
            "None\n"
          ]
        }
      ]
    },
    {
      "cell_type": "markdown",
      "source": [
        "##Data Cleaning and Preprocessing\n",
        "\n",
        "\n",
        "---\n",
        "\n",
        "Clean and preprocess the data to ensure accuracy and consistency. This may involve removing missing values, correcting errors, and transforming the data into a suitable format for analysis."
      ],
      "metadata": {
        "id": "GSTCRUqUqgGs"
      }
    },
    {
      "cell_type": "code",
      "source": [
        "# Reset index \n",
        "df=df.reset_index()\n",
        "df"
      ],
      "metadata": {
        "colab": {
          "base_uri": "https://localhost:8080/",
          "height": 423
        },
        "id": "H8PK_Y4arDnS",
        "outputId": "d9a0ae70-4eeb-4649-e30b-f73e0e0c64c3"
      },
      "execution_count": 44,
      "outputs": [
        {
          "output_type": "execute_result",
          "data": {
            "text/plain": [
              "           Date        Open        High         Low       Close   Adj Close  \\\n",
              "0    2010-01-04    7.622500    7.660714    7.585000    7.643214    6.505281   \n",
              "1    2010-01-05    7.664286    7.699643    7.616071    7.656429    6.516526   \n",
              "2    2010-01-06    7.656429    7.686786    7.526786    7.534643    6.412872   \n",
              "3    2010-01-07    7.562500    7.571429    7.466071    7.520714    6.401019   \n",
              "4    2010-01-08    7.510714    7.571429    7.466429    7.570714    6.443573   \n",
              "...         ...         ...         ...         ...         ...         ...   \n",
              "3354 2023-05-02  170.089996  170.350006  167.539993  168.539993  168.539993   \n",
              "3355 2023-05-03  169.500000  170.919998  167.160004  167.449997  167.449997   \n",
              "3356 2023-05-04  164.889999  167.039993  164.309998  165.789993  165.789993   \n",
              "3357 2023-05-05  170.979996  174.300003  170.759995  173.570007  173.570007   \n",
              "3358 2023-05-08  172.479996  173.850006  172.110001  173.500000  173.500000   \n",
              "\n",
              "         Volume  \n",
              "0     493729600  \n",
              "1     601904800  \n",
              "2     552160000  \n",
              "3     477131200  \n",
              "4     447610800  \n",
              "...         ...  \n",
              "3354   48425700  \n",
              "3355   65136000  \n",
              "3356   81235400  \n",
              "3357  113316400  \n",
              "3358   55962800  \n",
              "\n",
              "[3359 rows x 7 columns]"
            ],
            "text/html": [
              "\n",
              "  <div id=\"df-1c80b471-424c-46d1-a3ce-59f2fb920c89\">\n",
              "    <div class=\"colab-df-container\">\n",
              "      <div>\n",
              "<style scoped>\n",
              "    .dataframe tbody tr th:only-of-type {\n",
              "        vertical-align: middle;\n",
              "    }\n",
              "\n",
              "    .dataframe tbody tr th {\n",
              "        vertical-align: top;\n",
              "    }\n",
              "\n",
              "    .dataframe thead th {\n",
              "        text-align: right;\n",
              "    }\n",
              "</style>\n",
              "<table border=\"1\" class=\"dataframe\">\n",
              "  <thead>\n",
              "    <tr style=\"text-align: right;\">\n",
              "      <th></th>\n",
              "      <th>Date</th>\n",
              "      <th>Open</th>\n",
              "      <th>High</th>\n",
              "      <th>Low</th>\n",
              "      <th>Close</th>\n",
              "      <th>Adj Close</th>\n",
              "      <th>Volume</th>\n",
              "    </tr>\n",
              "  </thead>\n",
              "  <tbody>\n",
              "    <tr>\n",
              "      <th>0</th>\n",
              "      <td>2010-01-04</td>\n",
              "      <td>7.622500</td>\n",
              "      <td>7.660714</td>\n",
              "      <td>7.585000</td>\n",
              "      <td>7.643214</td>\n",
              "      <td>6.505281</td>\n",
              "      <td>493729600</td>\n",
              "    </tr>\n",
              "    <tr>\n",
              "      <th>1</th>\n",
              "      <td>2010-01-05</td>\n",
              "      <td>7.664286</td>\n",
              "      <td>7.699643</td>\n",
              "      <td>7.616071</td>\n",
              "      <td>7.656429</td>\n",
              "      <td>6.516526</td>\n",
              "      <td>601904800</td>\n",
              "    </tr>\n",
              "    <tr>\n",
              "      <th>2</th>\n",
              "      <td>2010-01-06</td>\n",
              "      <td>7.656429</td>\n",
              "      <td>7.686786</td>\n",
              "      <td>7.526786</td>\n",
              "      <td>7.534643</td>\n",
              "      <td>6.412872</td>\n",
              "      <td>552160000</td>\n",
              "    </tr>\n",
              "    <tr>\n",
              "      <th>3</th>\n",
              "      <td>2010-01-07</td>\n",
              "      <td>7.562500</td>\n",
              "      <td>7.571429</td>\n",
              "      <td>7.466071</td>\n",
              "      <td>7.520714</td>\n",
              "      <td>6.401019</td>\n",
              "      <td>477131200</td>\n",
              "    </tr>\n",
              "    <tr>\n",
              "      <th>4</th>\n",
              "      <td>2010-01-08</td>\n",
              "      <td>7.510714</td>\n",
              "      <td>7.571429</td>\n",
              "      <td>7.466429</td>\n",
              "      <td>7.570714</td>\n",
              "      <td>6.443573</td>\n",
              "      <td>447610800</td>\n",
              "    </tr>\n",
              "    <tr>\n",
              "      <th>...</th>\n",
              "      <td>...</td>\n",
              "      <td>...</td>\n",
              "      <td>...</td>\n",
              "      <td>...</td>\n",
              "      <td>...</td>\n",
              "      <td>...</td>\n",
              "      <td>...</td>\n",
              "    </tr>\n",
              "    <tr>\n",
              "      <th>3354</th>\n",
              "      <td>2023-05-02</td>\n",
              "      <td>170.089996</td>\n",
              "      <td>170.350006</td>\n",
              "      <td>167.539993</td>\n",
              "      <td>168.539993</td>\n",
              "      <td>168.539993</td>\n",
              "      <td>48425700</td>\n",
              "    </tr>\n",
              "    <tr>\n",
              "      <th>3355</th>\n",
              "      <td>2023-05-03</td>\n",
              "      <td>169.500000</td>\n",
              "      <td>170.919998</td>\n",
              "      <td>167.160004</td>\n",
              "      <td>167.449997</td>\n",
              "      <td>167.449997</td>\n",
              "      <td>65136000</td>\n",
              "    </tr>\n",
              "    <tr>\n",
              "      <th>3356</th>\n",
              "      <td>2023-05-04</td>\n",
              "      <td>164.889999</td>\n",
              "      <td>167.039993</td>\n",
              "      <td>164.309998</td>\n",
              "      <td>165.789993</td>\n",
              "      <td>165.789993</td>\n",
              "      <td>81235400</td>\n",
              "    </tr>\n",
              "    <tr>\n",
              "      <th>3357</th>\n",
              "      <td>2023-05-05</td>\n",
              "      <td>170.979996</td>\n",
              "      <td>174.300003</td>\n",
              "      <td>170.759995</td>\n",
              "      <td>173.570007</td>\n",
              "      <td>173.570007</td>\n",
              "      <td>113316400</td>\n",
              "    </tr>\n",
              "    <tr>\n",
              "      <th>3358</th>\n",
              "      <td>2023-05-08</td>\n",
              "      <td>172.479996</td>\n",
              "      <td>173.850006</td>\n",
              "      <td>172.110001</td>\n",
              "      <td>173.500000</td>\n",
              "      <td>173.500000</td>\n",
              "      <td>55962800</td>\n",
              "    </tr>\n",
              "  </tbody>\n",
              "</table>\n",
              "<p>3359 rows × 7 columns</p>\n",
              "</div>\n",
              "      <button class=\"colab-df-convert\" onclick=\"convertToInteractive('df-1c80b471-424c-46d1-a3ce-59f2fb920c89')\"\n",
              "              title=\"Convert this dataframe to an interactive table.\"\n",
              "              style=\"display:none;\">\n",
              "        \n",
              "  <svg xmlns=\"http://www.w3.org/2000/svg\" height=\"24px\"viewBox=\"0 0 24 24\"\n",
              "       width=\"24px\">\n",
              "    <path d=\"M0 0h24v24H0V0z\" fill=\"none\"/>\n",
              "    <path d=\"M18.56 5.44l.94 2.06.94-2.06 2.06-.94-2.06-.94-.94-2.06-.94 2.06-2.06.94zm-11 1L8.5 8.5l.94-2.06 2.06-.94-2.06-.94L8.5 2.5l-.94 2.06-2.06.94zm10 10l.94 2.06.94-2.06 2.06-.94-2.06-.94-.94-2.06-.94 2.06-2.06.94z\"/><path d=\"M17.41 7.96l-1.37-1.37c-.4-.4-.92-.59-1.43-.59-.52 0-1.04.2-1.43.59L10.3 9.45l-7.72 7.72c-.78.78-.78 2.05 0 2.83L4 21.41c.39.39.9.59 1.41.59.51 0 1.02-.2 1.41-.59l7.78-7.78 2.81-2.81c.8-.78.8-2.07 0-2.86zM5.41 20L4 18.59l7.72-7.72 1.47 1.35L5.41 20z\"/>\n",
              "  </svg>\n",
              "      </button>\n",
              "      \n",
              "  <style>\n",
              "    .colab-df-container {\n",
              "      display:flex;\n",
              "      flex-wrap:wrap;\n",
              "      gap: 12px;\n",
              "    }\n",
              "\n",
              "    .colab-df-convert {\n",
              "      background-color: #E8F0FE;\n",
              "      border: none;\n",
              "      border-radius: 50%;\n",
              "      cursor: pointer;\n",
              "      display: none;\n",
              "      fill: #1967D2;\n",
              "      height: 32px;\n",
              "      padding: 0 0 0 0;\n",
              "      width: 32px;\n",
              "    }\n",
              "\n",
              "    .colab-df-convert:hover {\n",
              "      background-color: #E2EBFA;\n",
              "      box-shadow: 0px 1px 2px rgba(60, 64, 67, 0.3), 0px 1px 3px 1px rgba(60, 64, 67, 0.15);\n",
              "      fill: #174EA6;\n",
              "    }\n",
              "\n",
              "    [theme=dark] .colab-df-convert {\n",
              "      background-color: #3B4455;\n",
              "      fill: #D2E3FC;\n",
              "    }\n",
              "\n",
              "    [theme=dark] .colab-df-convert:hover {\n",
              "      background-color: #434B5C;\n",
              "      box-shadow: 0px 1px 3px 1px rgba(0, 0, 0, 0.15);\n",
              "      filter: drop-shadow(0px 1px 2px rgba(0, 0, 0, 0.3));\n",
              "      fill: #FFFFFF;\n",
              "    }\n",
              "  </style>\n",
              "\n",
              "      <script>\n",
              "        const buttonEl =\n",
              "          document.querySelector('#df-1c80b471-424c-46d1-a3ce-59f2fb920c89 button.colab-df-convert');\n",
              "        buttonEl.style.display =\n",
              "          google.colab.kernel.accessAllowed ? 'block' : 'none';\n",
              "\n",
              "        async function convertToInteractive(key) {\n",
              "          const element = document.querySelector('#df-1c80b471-424c-46d1-a3ce-59f2fb920c89');\n",
              "          const dataTable =\n",
              "            await google.colab.kernel.invokeFunction('convertToInteractive',\n",
              "                                                     [key], {});\n",
              "          if (!dataTable) return;\n",
              "\n",
              "          const docLinkHtml = 'Like what you see? Visit the ' +\n",
              "            '<a target=\"_blank\" href=https://colab.research.google.com/notebooks/data_table.ipynb>data table notebook</a>'\n",
              "            + ' to learn more about interactive tables.';\n",
              "          element.innerHTML = '';\n",
              "          dataTable['output_type'] = 'display_data';\n",
              "          await google.colab.output.renderOutput(dataTable, element);\n",
              "          const docLink = document.createElement('div');\n",
              "          docLink.innerHTML = docLinkHtml;\n",
              "          element.appendChild(docLink);\n",
              "        }\n",
              "      </script>\n",
              "    </div>\n",
              "  </div>\n",
              "  "
            ]
          },
          "metadata": {},
          "execution_count": 44
        }
      ]
    },
    {
      "cell_type": "markdown",
      "source": [
        "### Transforming the data \n",
        "\n",
        "---\n",
        "\n",
        "\n",
        "Into a suitable format for analysis"
      ],
      "metadata": {
        "id": "3VQ65U4N5iNn"
      }
    },
    {
      "cell_type": "code",
      "source": [
        "# Rename columns\n",
        "df = df.rename(columns={'Date': 'date', 'Open': 'open', 'High': 'high', 'Low': 'low', 'Close': 'close', 'Adj Close': 'adj_close', 'Volume': 'volume'})\n",
        "\n",
        "# Convert date column to datetime format\n",
        "df['date'] = pd.to_datetime(df['date'])\n",
        "\n",
        "# Set date column as index\n",
        "df.set_index('date', inplace=True)\n",
        "\n",
        "# Sort data by date\n",
        "df = df.sort_index()"
      ],
      "metadata": {
        "id": "pYaTMgOOp8kw"
      },
      "execution_count": 45,
      "outputs": []
    },
    {
      "cell_type": "markdown",
      "source": [
        "The data is cleaned and preprocessed by renaming the columns, converting the date column to datetime format, setting the date column as the index, and sorting the data by date.\n",
        "\n",
        "---\n",
        "\n"
      ],
      "metadata": {
        "id": "UAc8q_V_sAFX"
      }
    },
    {
      "cell_type": "markdown",
      "source": [
        "##Exploratory Data Analysis(EDA)\n",
        "\n",
        "---\n",
        "\n",
        "\n",
        "Use exploratory data analysis (EDA) techniques to gain insights into the data and identify patterns or trends. This may involve visualizing the data using charts and graphs, calculating summary statistics, and identifying outliers or anomalies."
      ],
      "metadata": {
        "id": "vGmRe2zvsRh0"
      }
    },
    {
      "cell_type": "markdown",
      "source": [
        " ### Visualizing and calculating summary statistics \n"
      ],
      "metadata": {
        "id": "aGPUxF4u4LpN"
      }
    },
    {
      "cell_type": "code",
      "source": [
        "# Visualize the closing price over time\n",
        "plt.figure(figsize=(10, 6))\n",
        "plt.plot(df['close'])\n",
        "plt.title('AAPL Closing Price from 2010 to 2021')\n",
        "plt.xlabel('Year')\n",
        "plt.ylabel('Price ($)')\n",
        "plt.show()\n",
        "\n",
        "# Calculate summary statistics\n",
        "print(df.describe())"
      ],
      "metadata": {
        "colab": {
          "base_uri": "https://localhost:8080/",
          "height": 910
        },
        "id": "7BYvLjISp9S3",
        "outputId": "d1182595-9d33-47df-da9f-10add99300bf"
      },
      "execution_count": 46,
      "outputs": [
        {
          "output_type": "display_data",
          "data": {
            "text/plain": [
              "<Figure size 1000x600 with 1 Axes>"
            ],
            "image/png": "[encoded data removed]"
          },
          "metadata": {}
        },
        {
          "output_type": "stream",
          "name": "stdout",
          "text": [
            "              open         high          low        close    adj_close  \\\n",
            "count  3359.000000  3359.000000  3359.000000  3359.000000  3359.000000   \n",
            "mean     53.913976    54.520015    53.332426    53.952188    52.073500   \n",
            "std      49.427311    50.063313    48.841247    49.483868    49.948240   \n",
            "min       6.870357     7.000000     6.794643     6.858929     5.837762   \n",
            "25%      19.196072    19.363750    19.012678    19.163035    16.782172   \n",
            "50%      31.142500    31.375000    30.775000    31.125000    28.202007   \n",
            "75%      66.843750    67.608749    66.201252    66.886250    65.427059   \n",
            "max     182.630005   182.940002   179.119995   182.009995   180.683868   \n",
            "\n",
            "             volume  \n",
            "count  3.359000e+03  \n",
            "mean   2.513174e+08  \n",
            "std    2.217736e+08  \n",
            "min    3.519590e+07  \n",
            "25%    9.849300e+07  \n",
            "50%    1.623440e+08  \n",
            "75%    3.381880e+08  \n",
            "max    1.880998e+09  \n"
          ]
        }
      ]
    },
    {
      "cell_type": "markdown",
      "source": [
        "### Identify outliers or anomalies:"
      ],
      "metadata": {
        "id": "JGIYFa_76E6r"
      }
    },
    {
      "cell_type": "code",
      "source": [
        "# Identify outliers or anomalies\n",
        "plt.figure(figsize=(8, 6))\n",
        "sns.boxplot(x=df['volume'])\n",
        "plt.title('AAPL Volume Distribution')\n",
        "plt.xlabel('Volume')\n",
        "plt.show()"
      ],
      "metadata": {
        "colab": {
          "base_uri": "https://localhost:8080/",
          "height": 564
        },
        "id": "7D7BEFTBr6dD",
        "outputId": "5fefa623-d724-40eb-8c5d-dadf142b9d67"
      },
      "execution_count": 47,
      "outputs": [
        {
          "output_type": "display_data",
          "data": {
            "text/plain": [
              "<Figure size 800x600 with 1 Axes>"
            ],
            "image/png": "[encoded data removed]"
          },
          "metadata": {}
        }
      ]
    },
    {
      "cell_type": "markdown",
      "source": [
        "###Calculate daily returns:\n",
        "\n",
        "---\n",
        "\n",
        "\n",
        "To analyze the performance of the APPL stock, you can calculate the daily returns. This can be done by dividing the daily change in the closing price by the previous day's closing price."
      ],
      "metadata": {
        "id": "O08CI6tr-lvH"
      }
    },
    {
      "cell_type": "code",
      "source": [
        "# Calculate the daily returns\n",
        "df['daily_return'] = df['close'].pct_change()\n",
        "\n",
        "# Visualize the data: plot the daily returns over time\n",
        "plt.figure(figsize=(10, 6))\n",
        "plt.plot(df['daily_return'])\n",
        "plt.title('AAPL Daily Returns from 2010 to 2021')\n",
        "plt.xlabel('Year')\n",
        "plt.ylabel('Daily Return')\n",
        "plt.show()\n",
        "\n",
        "# Calculate summary statistics: mean, median, standard deviation\n",
        "print('Mean daily return:', df['daily_return'].mean())\n",
        "print('Median daily return:', df['daily_return'].median())\n",
        "print('Standard deviation of daily return:', df['daily_return'].std())"
      ],
      "metadata": {
        "colab": {
          "base_uri": "https://localhost:8080/",
          "height": 619
        },
        "id": "9A_DXkJE4D2c",
        "outputId": "425a8c0c-fed8-450e-f427-ed62d9436b79"
      },
      "execution_count": 48,
      "outputs": [
        {
          "output_type": "display_data",
          "data": {
            "text/plain": [
              "<Figure size 1000x600 with 1 Axes>"
            ],
            "image/png": "[encoded data removed]"
          },
          "metadata": {}
        },
        {
          "output_type": "stream",
          "name": "stdout",
          "text": [
            "Mean daily return: 0.0010928648286469354\n",
            "Median daily return: 0.0008906075106492883\n",
            "Standard deviation of daily return: 0.018029565701301528\n"
          ]
        }
      ]
    },
    {
      "cell_type": "markdown",
      "source": [
        "###Calculate performance metrics:\n",
        "\n",
        "---\n",
        "\n",
        "\n",
        "Calculate performance metrics such as the Sharpe ratio to evaluate the risk-adjusted performance of the stock."
      ],
      "metadata": {
        "id": "jS3aW4rK_5t4"
      }
    },
    {
      "cell_type": "code",
      "source": [
        "# Calculate Sharpe ratio\n",
        "risk_free_rate = 0.01 # Assume a 1% risk-free rate\n",
        "sharpe_ratio = (df['daily_return'].mean() - risk_free_rate) / df['daily_return'].std()\n",
        "print('Sharpe ratio:', sharpe_ratio)"
      ],
      "metadata": {
        "colab": {
          "base_uri": "https://localhost:8080/"
        },
        "id": "KZOR0yHV_SH6",
        "outputId": "50cde349-2247-40fb-f19f-27ac418f52a7"
      },
      "execution_count": 49,
      "outputs": [
        {
          "output_type": "stream",
          "name": "stdout",
          "text": [
            "Sharpe ratio: -0.4940293803477514\n"
          ]
        }
      ]
    },
    {
      "cell_type": "markdown",
      "source": [
        "### Identify trends and patterns:\n",
        "\n",
        "---\n",
        "\n",
        "\n",
        "> You may observe that the stock has experienced significant growth over time, with some volatility, and that the daily returns are normally distributed with a positive mean and a small standard deviation. \n",
        "\n",
        "> You may also observe that the Sharpe ratio indicates that the stock has provided a good risk-adjusted return over the period analyzed.\n",
        "\n",
        "**Overall**, by following these steps, you can analyze the APPL stock data and identify any trends or patterns. This can help you gain valuable insights into the performance of the stock and make informed investment decisions."
      ],
      "metadata": {
        "id": "2L2_s0FsA5XC"
      }
    },
    {
      "cell_type": "markdown",
      "source": [
        "#What is the historical performance of the stock over the past year, and how does it compare to relevant benchmarks?"
      ],
      "metadata": {
        "id": "cO9hea1YOOuT"
      }
    },
    {
      "cell_type": "markdown",
      "source": [
        "###Additional steps to analyze the APPL stock:\n",
        "\n",
        "---\n",
        "\n",
        "\n",
        "Some additional steps you can take to analyze the APPL stock data and gain insights into its performance:"
      ],
      "metadata": {
        "id": "WX7rEdDqBuOT"
      }
    },
    {
      "cell_type": "markdown",
      "source": [
        "####  Compare with benchmarks \n",
        "\n",
        "You can compare the performance of the APPL stock with relevant benchmarks, such as the S&P 500 index. The S&P 500 index is a benchmark index that tracks the performance of 500 large-cap companies in the United States and is widely used as a benchmark for the overall performance of the stock market. This can help you understand how the stock has performed relative to other investment options."
      ],
      "metadata": {
        "id": "FO_5Ch1xLoda"
      }
    },
    {
      "cell_type": "code",
      "source": [
        "# Calculate the daily returns for the S&P 500 index\n",
        "url = 'https://query1.finance.yahoo.com/v7/finance/download/%5EGSPC?period1=1262304000&period2=1620124800&interval=1d&events=history&includeAdjustedClose=true'\n",
        "sp500 = pd.read_csv(url)\n",
        "sp500['daily_return'] = sp500['Close'].pct_change()\n",
        "\n",
        "# Compare the daily returns of the APPL stock with the S&P 500 index\n",
        "plt.figure(figsize=(10, 6))\n",
        "plt.plot(df['daily_return'], label='AAPL')\n",
        "plt.plot(sp500['daily_return'], label='S&P 500')\n",
        "plt.title('AAPL Daily Returns vs. S&P 500 from 2010 to 2021')\n",
        "plt.xlabel('Year')\n",
        "plt.ylabel('Daily Return')\n",
        "plt.legend()\n",
        "plt.show()"
      ],
      "metadata": {
        "colab": {
          "base_uri": "https://localhost:8080/",
          "height": 564
        },
        "id": "aEGf4TRqA5Ee",
        "outputId": "df04f299-3fa7-4ced-bc23-3bd99805f13a"
      },
      "execution_count": 50,
      "outputs": [
        {
          "output_type": "display_data",
          "data": {
            "text/plain": [
              "<Figure size 1000x600 with 1 Axes>"
            ],
            "image/png": "[encoded data removed]"
          },
          "metadata": {}
        }
      ]
    },
    {
      "cell_type": "markdown",
      "source": [
        "#### Calculate Standard deviation"
      ],
      "metadata": {
        "id": "bl5qozdjMXnX"
      }
    },
    {
      "cell_type": "code",
      "source": [
        "# Calculate Standard deviation\n",
        "print('Standard deviation of daily return:', df['daily_return'].std())\n",
        "print('Standard deviation of S&P 500 index:', sp500['daily_return'].std())\n"
      ],
      "metadata": {
        "colab": {
          "base_uri": "https://localhost:8080/"
        },
        "id": "fv-agFnDMZFE",
        "outputId": "e7a5c38f-6103-4286-d905-c5e2115b45ee"
      },
      "execution_count": 51,
      "outputs": [
        {
          "output_type": "stream",
          "name": "stdout",
          "text": [
            "Standard deviation of daily return: 0.018029565701301528\n",
            "Standard deviation of S&P 500 index: 0.010972136954805457\n"
          ]
        }
      ]
    },
    {
      "cell_type": "markdown",
      "source": [
        "#### Calculate the cumulative return"
      ],
      "metadata": {
        "id": "d52Yr-C_JJ6p"
      }
    },
    {
      "cell_type": "code",
      "source": [
        "# Calculate the cumulative returns using the cumulative product function\n",
        "appl_cumulative_return = (1 + df['daily_return']).cumprod() - 1\n",
        "sp500_cumulative_return = (1 + sp500['daily_return']).cumprod() - 1\n",
        "\n",
        "# Plot the cumulative returns for comparison\n",
        "plt.figure(figsize=(10, 6))\n",
        "plt.plot(appl_cumulative_return, label='AAPL')\n",
        "plt.plot(sp500_cumulative_return, label='S&P 500')\n",
        "plt.title('Cumulative Returns of AAPL and S&P 500 from 2010 to 2021')\n",
        "plt.xlabel('Year')\n",
        "plt.ylabel('Cumulative Return')\n",
        "plt.legend()\n",
        "plt.show()"
      ],
      "metadata": {
        "colab": {
          "base_uri": "https://localhost:8080/",
          "height": 564
        },
        "id": "JU0ucFS9JKY9",
        "outputId": "67101d75-2b45-4bc0-fddd-2fdfa0d310e8"
      },
      "execution_count": 52,
      "outputs": [
        {
          "output_type": "display_data",
          "data": {
            "text/plain": [
              "<Figure size 1000x600 with 1 Axes>"
            ],
            "image/png": "[encoded data removed]"
          },
          "metadata": {}
        }
      ]
    },
    {
      "cell_type": "markdown",
      "source": [
        "Based on the comparison, we may observe the following:\n",
        "* The APPL stock has generally outperformed the S&P 500 index over the period analyzed. This can be seen in the higher average daily returns and cumulative returns of the APPL stock compared to the index.\n",
        "\n",
        "* However, the APPL stock has also been more volatile than the S&P 500 index, as seen in the higher standard deviation of the daily returns and the larger drawdowns in the stock's price.\n",
        "\n",
        "* The performance of the APPL stock has been closely correlated with the performance of the S&P 500 index, as seen in the similar trends and patterns in the daily returns of the two assets."
      ],
      "metadata": {
        "id": "T4t77NkEKg4T"
      }
    },
    {
      "cell_type": "markdown",
      "source": [
        "# Building a predictive model\n",
        "\n",
        "\n",
        "---\n",
        "\n",
        "To forecast future stock prices based on historical stock price data with regression models and time series models"
      ],
      "metadata": {
        "id": "OSRnj-h5RfmF"
      }
    },
    {
      "cell_type": "code",
      "source": [
        "# Import sklearn library\n",
        "from sklearn.model_selection import train_test_split\n",
        "from sklearn.linear_model import LinearRegression\n",
        "from sklearn.metrics import mean_squared_error\n",
        "from sklearn.metrics import mean_absolute_error\n",
        "from sklearn.metrics import r2_score\n",
        "import math"
      ],
      "metadata": {
        "id": "osLaBY8pSNUE"
      },
      "execution_count": 53,
      "outputs": []
    },
    {
      "cell_type": "markdown",
      "source": [
        "##Split the data into training and testing sets:\n",
        "Split the data into training and testing sets to prevent overfitting and assess the model's accuracy."
      ],
      "metadata": {
        "id": "2P9xm-L7Ry9l"
      }
    },
    {
      "cell_type": "code",
      "source": [
        "# Split the data into training and testing sets\n",
        "train_data, test_data = train_test_split(df, test_size=0.2, random_state=42)\n",
        "# Print the number of rows in the training and testing sets\n",
        "print(f\"Number of rows in the training set: {len(train_data)}\")\n",
        "print(f\"Number of rows in the testing set: {len(test_data)}\")"
      ],
      "metadata": {
        "colab": {
          "base_uri": "https://localhost:8080/"
        },
        "id": "4NBjjyIxSOOC",
        "outputId": "8e704968-9adb-4df6-e112-075584365b05"
      },
      "execution_count": 54,
      "outputs": [
        {
          "output_type": "stream",
          "name": "stdout",
          "text": [
            "Number of rows in the training set: 2687\n",
            "Number of rows in the testing set: 672\n"
          ]
        }
      ]
    },
    {
      "cell_type": "markdown",
      "source": [
        "##Building Linear Regression model"
      ],
      "metadata": {
        "id": "7XDBHYPsTaj3"
      }
    },
    {
      "cell_type": "code",
      "source": [
        "# Split the training data into features and target variable\n",
        "X_train = train_data[['open', 'high', 'low', 'volume']] # Features\n",
        "y_train = train_data['close'] # Target variable\n",
        "\n",
        "# Fit a Linear Regression model to the training data\n",
        "regression_model = LinearRegression()\n",
        "regression_model.fit(X_train, y_train)\n",
        "\n",
        "# Split the testing data into features and target variable\n",
        "X_test = test_data[['open', 'high', 'low', 'volume']] # Features\n",
        "y_test = test_data['close'] # Target variable\n",
        "\n",
        "# Use the trained model to predict the stock price for the testing data\n",
        "y_pred = regression_model.predict(X_test)\n",
        "\n",
        "# Evaluate the performance of the model using mean squared error\n",
        "mse = mean_squared_error(y_test, y_pred)\n",
        "rmse = math.sqrt(mse)\n",
        "mae = mean_absolute_error(y_test, y_pred)\n",
        "r2 = r2_score(y_test, y_pred)\n",
        "print(f\"Mean Squared Error: {mse}\")\n",
        "print(f\"RMSE: {rmse}\")\n",
        "print(f\"MAE: {mae}\")\n",
        "print(f\"R^2: {r2}\")\n"
      ],
      "metadata": {
        "colab": {
          "base_uri": "https://localhost:8080/"
        },
        "id": "-jkIkcqlKF1Q",
        "outputId": "c1785aee-751e-4531-be61-8d49bb135dd4"
      },
      "execution_count": 55,
      "outputs": [
        {
          "output_type": "stream",
          "name": "stdout",
          "text": [
            "Mean Squared Error: 0.27803989299541076\n",
            "RMSE: 0.5272948823906892\n",
            "MAE: 0.2663155693717226\n",
            "R^2: 0.9998804845239334\n"
          ]
        }
      ]
    },
    {
      "cell_type": "code",
      "source": [
        "print(f\"The MSE value of {mse} indicates that the average squared difference between \\n the predicted stock prices and the actual stock prices for the testing data is {mse:.4f}.\\n\")\n",
        "print(f\"The RMSE value of {rmse} indicates that the average difference between \\n the predicted stock prices and the actual stock prices for the testing data is approximately ${rmse:.2f}.\\n\")\n",
        "print(f\"The MAE value of {mae} indicates that the average absolute difference between \\n the predicted stock prices and the actual stock prices for the testing data is approximately ${mae:.2f}.\\n\")\n",
        "print(f\"The R^2 value of {r2:.4f} indicates that a very high proportion of the variance \\n in the target variable (i.e., the stock prices) is explained by the predictor variables in the model.\\n This is a strong indication that the model is a good fit for the data and is able to accurately predict future stock prices based on historical data.\")"
      ],
      "metadata": {
        "colab": {
          "base_uri": "https://localhost:8080/"
        },
        "id": "jPMOpa_tiq4e",
        "outputId": "644145f1-617c-4ef6-e07d-3e5c39d518d6"
      },
      "execution_count": 60,
      "outputs": [
        {
          "output_type": "stream",
          "name": "stdout",
          "text": [
            "The MSE value of 0.27803989299541076 indicates that the average squared difference between \n",
            " the predicted stock prices and the actual stock prices for the testing data is 0.2780.\n",
            "\n",
            "The RMSE value of 0.5272948823906892 indicates that the average difference between \n",
            " the predicted stock prices and the actual stock prices for the testing data is approximately $0.53.\n",
            "\n",
            "The MAE value of 0.2663155693717226 indicates that the average absolute difference between \n",
            " the predicted stock prices and the actual stock prices for the testing data is approximately $0.27.\n",
            "\n",
            "The R^2 value of 0.9999 indicates that a very high proportion of the variance \n",
            " in the target variable (i.e., the stock prices) is explained by the predictor variables in the model.\n",
            " This is a strong indication that the model is a good fit for the data and is able to accurately predict future stock prices based on historical data.\n"
          ]
        }
      ]
    },
    {
      "cell_type": "markdown",
      "source": [
        "**In general**, a lower MSE, RMSE, and MAE and a higher R^2 indicate better performance of a predictive model."
      ],
      "metadata": {
        "id": "Bcqj_KWNZNyy"
      }
    },
    {
      "cell_type": "markdown",
      "source": [
        "#Predict stock prices"
      ],
      "metadata": {
        "id": "lOlDKK_Wbdpo"
      }
    },
    {
      "cell_type": "markdown",
      "source": [
        "##Collect new data"
      ],
      "metadata": {
        "id": "9hBtD2PydSgd"
      }
    },
    {
      "cell_type": "code",
      "source": [
        "# Calculate values of dates \n",
        "today = date.today()\n",
        "yesterday = today - timedelta(days=1)  # In the morning \"days = 1\", the end of the day \"days = 0.5\" \n",
        "tomorrow = today + timedelta(days=1)   \n",
        "\n",
        "# Use the yfinance library to retrieve the new data\n",
        "new_data = yf.download(\"AAPL\", start= yesterday)\n",
        "\n",
        "# Print the new data\n",
        "new_data\n",
        "\n"
      ],
      "metadata": {
        "colab": {
          "base_uri": "https://localhost:8080/",
          "height": 130
        },
        "id": "RTmdYPmsdWKy",
        "outputId": "440c1773-8b5f-49be-9b15-e44128ea9a33"
      },
      "execution_count": 57,
      "outputs": [
        {
          "output_type": "stream",
          "name": "stdout",
          "text": [
            "\r[*********************100%***********************]  1 of 1 completed\n"
          ]
        },
        {
          "output_type": "execute_result",
          "data": {
            "text/plain": [
              "                  Open        High         Low       Close   Adj Close  \\\n",
              "Date                                                                     \n",
              "2023-05-09  173.050003  173.539993  171.600006  171.770004  171.770004   \n",
              "\n",
              "              Volume  \n",
              "Date                  \n",
              "2023-05-09  45285300  "
            ],
            "text/html": [
              "\n",
              "  <div id=\"df-9d15b85d-1d0b-4589-a071-7efb59b3ee06\">\n",
              "    <div class=\"colab-df-container\">\n",
              "      <div>\n",
              "<style scoped>\n",
              "    .dataframe tbody tr th:only-of-type {\n",
              "        vertical-align: middle;\n",
              "    }\n",
              "\n",
              "    .dataframe tbody tr th {\n",
              "        vertical-align: top;\n",
              "    }\n",
              "\n",
              "    .dataframe thead th {\n",
              "        text-align: right;\n",
              "    }\n",
              "</style>\n",
              "<table border=\"1\" class=\"dataframe\">\n",
              "  <thead>\n",
              "    <tr style=\"text-align: right;\">\n",
              "      <th></th>\n",
              "      <th>Open</th>\n",
              "      <th>High</th>\n",
              "      <th>Low</th>\n",
              "      <th>Close</th>\n",
              "      <th>Adj Close</th>\n",
              "      <th>Volume</th>\n",
              "    </tr>\n",
              "    <tr>\n",
              "      <th>Date</th>\n",
              "      <th></th>\n",
              "      <th></th>\n",
              "      <th></th>\n",
              "      <th></th>\n",
              "      <th></th>\n",
              "      <th></th>\n",
              "    </tr>\n",
              "  </thead>\n",
              "  <tbody>\n",
              "    <tr>\n",
              "      <th>2023-05-09</th>\n",
              "      <td>173.050003</td>\n",
              "      <td>173.539993</td>\n",
              "      <td>171.600006</td>\n",
              "      <td>171.770004</td>\n",
              "      <td>171.770004</td>\n",
              "      <td>45285300</td>\n",
              "    </tr>\n",
              "  </tbody>\n",
              "</table>\n",
              "</div>\n",
              "      <button class=\"colab-df-convert\" onclick=\"convertToInteractive('df-9d15b85d-1d0b-4589-a071-7efb59b3ee06')\"\n",
              "              title=\"Convert this dataframe to an interactive table.\"\n",
              "              style=\"display:none;\">\n",
              "        \n",
              "  <svg xmlns=\"http://www.w3.org/2000/svg\" height=\"24px\"viewBox=\"0 0 24 24\"\n",
              "       width=\"24px\">\n",
              "    <path d=\"M0 0h24v24H0V0z\" fill=\"none\"/>\n",
              "    <path d=\"M18.56 5.44l.94 2.06.94-2.06 2.06-.94-2.06-.94-.94-2.06-.94 2.06-2.06.94zm-11 1L8.5 8.5l.94-2.06 2.06-.94-2.06-.94L8.5 2.5l-.94 2.06-2.06.94zm10 10l.94 2.06.94-2.06 2.06-.94-2.06-.94-.94-2.06-.94 2.06-2.06.94z\"/><path d=\"M17.41 7.96l-1.37-1.37c-.4-.4-.92-.59-1.43-.59-.52 0-1.04.2-1.43.59L10.3 9.45l-7.72 7.72c-.78.78-.78 2.05 0 2.83L4 21.41c.39.39.9.59 1.41.59.51 0 1.02-.2 1.41-.59l7.78-7.78 2.81-2.81c.8-.78.8-2.07 0-2.86zM5.41 20L4 18.59l7.72-7.72 1.47 1.35L5.41 20z\"/>\n",
              "  </svg>\n",
              "      </button>\n",
              "      \n",
              "  <style>\n",
              "    .colab-df-container {\n",
              "      display:flex;\n",
              "      flex-wrap:wrap;\n",
              "      gap: 12px;\n",
              "    }\n",
              "\n",
              "    .colab-df-convert {\n",
              "      background-color: #E8F0FE;\n",
              "      border: none;\n",
              "      border-radius: 50%;\n",
              "      cursor: pointer;\n",
              "      display: none;\n",
              "      fill: #1967D2;\n",
              "      height: 32px;\n",
              "      padding: 0 0 0 0;\n",
              "      width: 32px;\n",
              "    }\n",
              "\n",
              "    .colab-df-convert:hover {\n",
              "      background-color: #E2EBFA;\n",
              "      box-shadow: 0px 1px 2px rgba(60, 64, 67, 0.3), 0px 1px 3px 1px rgba(60, 64, 67, 0.15);\n",
              "      fill: #174EA6;\n",
              "    }\n",
              "\n",
              "    [theme=dark] .colab-df-convert {\n",
              "      background-color: #3B4455;\n",
              "      fill: #D2E3FC;\n",
              "    }\n",
              "\n",
              "    [theme=dark] .colab-df-convert:hover {\n",
              "      background-color: #434B5C;\n",
              "      box-shadow: 0px 1px 3px 1px rgba(0, 0, 0, 0.15);\n",
              "      filter: drop-shadow(0px 1px 2px rgba(0, 0, 0, 0.3));\n",
              "      fill: #FFFFFF;\n",
              "    }\n",
              "  </style>\n",
              "\n",
              "      <script>\n",
              "        const buttonEl =\n",
              "          document.querySelector('#df-9d15b85d-1d0b-4589-a071-7efb59b3ee06 button.colab-df-convert');\n",
              "        buttonEl.style.display =\n",
              "          google.colab.kernel.accessAllowed ? 'block' : 'none';\n",
              "\n",
              "        async function convertToInteractive(key) {\n",
              "          const element = document.querySelector('#df-9d15b85d-1d0b-4589-a071-7efb59b3ee06');\n",
              "          const dataTable =\n",
              "            await google.colab.kernel.invokeFunction('convertToInteractive',\n",
              "                                                     [key], {});\n",
              "          if (!dataTable) return;\n",
              "\n",
              "          const docLinkHtml = 'Like what you see? Visit the ' +\n",
              "            '<a target=\"_blank\" href=https://colab.research.google.com/notebooks/data_table.ipynb>data table notebook</a>'\n",
              "            + ' to learn more about interactive tables.';\n",
              "          element.innerHTML = '';\n",
              "          dataTable['output_type'] = 'display_data';\n",
              "          await google.colab.output.renderOutput(dataTable, element);\n",
              "          const docLink = document.createElement('div');\n",
              "          docLink.innerHTML = docLinkHtml;\n",
              "          element.appendChild(docLink);\n",
              "        }\n",
              "      </script>\n",
              "    </div>\n",
              "  </div>\n",
              "  "
            ]
          },
          "metadata": {},
          "execution_count": 57
        }
      ]
    },
    {
      "cell_type": "markdown",
      "source": [
        "**Note**: We need to wait until the closing price of APPL stock for the day can be found on financial websites before we can calculate tomorrow’s price."
      ],
      "metadata": {
        "id": "PItp_bYcn6hM"
      }
    },
    {
      "cell_type": "markdown",
      "source": [
        "##Clean and transform new data"
      ],
      "metadata": {
        "id": "DiS___-QeI5r"
      }
    },
    {
      "cell_type": "code",
      "source": [
        "# Reset index \n",
        "new_data=new_data.reset_index()\n",
        "\n",
        "# Rename columns\n",
        "new_data = new_data.rename(columns={'Date': 'date', 'Open': 'open', 'High': 'high', 'Low': 'low', 'Close': 'close', 'Adj Close': 'adj_close', 'Volume': 'volume'})\n",
        "\n",
        "# Convert date column to datetime format\n",
        "new_data['date'] = pd.to_datetime(new_data['date'])\n",
        "\n",
        "# Set date column as index\n",
        "new_data.set_index('date', inplace=True)\n",
        "\n",
        "# Sort data by date\n",
        "new_data = new_data.sort_index()"
      ],
      "metadata": {
        "id": "3ZeeT5IQdxoo"
      },
      "execution_count": 58,
      "outputs": []
    },
    {
      "cell_type": "markdown",
      "source": [
        "##Predict stock prices tomorow"
      ],
      "metadata": {
        "id": "aqmEPNsigOX9"
      }
    },
    {
      "cell_type": "code",
      "source": [
        "# Split the new data into features and target variable\n",
        "X_new = new_data[['open', 'high', 'low', 'volume']] # Features\n",
        "\n",
        "# Use the trained linear regression model to predict the stock price for the new data\n",
        "y_new_pred = regression_model.predict(X_new)\n",
        "\n",
        "# Print the predicted stock prices\n",
        "print(f\"Predicted Apple stock prices {tomorrow}: {y_new_pred}\")"
      ],
      "metadata": {
        "colab": {
          "base_uri": "https://localhost:8080/"
        },
        "id": "H2jkoU_MZxr6",
        "outputId": "c552f4d1-4011-47a5-c4a7-a9588888c5bf"
      },
      "execution_count": 59,
      "outputs": [
        {
          "output_type": "stream",
          "name": "stdout",
          "text": [
            "Predicted Apple stock prices 2023-05-11: [172.20487241]\n"
          ]
        }
      ]
    }
  ]
}